{
 "cells": [
  {
   "cell_type": "code",
   "execution_count": 16,
   "metadata": {},
   "outputs": [
    {
     "name": "stdout",
     "output_type": "stream",
     "text": [
      "[[0.02983361 0.17710009]\n",
      " [0.12968305 0.3625676 ]\n",
      " [0.07449672 0.6798614 ]\n",
      " [0.17679691 0.00888588]\n",
      " [0.16185947 0.88252515]\n",
      " [0.35777038 0.10028268]\n",
      " [0.36444968 0.3496864 ]\n",
      " [0.38797367 0.62104285]\n",
      " [0.41428396 0.83716923]\n",
      " [0.5645942  0.9785178 ]\n",
      " [0.6728994  0.14646344]\n",
      " [0.64600086 0.42805314]\n",
      " [0.6196528  0.71729535]\n",
      " [0.97425836 0.02988463]\n",
      " [0.90246075 0.22637133]\n",
      " [0.8891456  0.51832324]\n",
      " [0.96093357 0.82313037]]\n"
     ]
    },
    {
     "data": {
      "image/png": "[encoded data removed]",
      "text/plain": [
       "<Figure size 432x288 with 1 Axes>"
      ]
     },
     "metadata": {
      "needs_background": "light"
     },
     "output_type": "display_data"
    },
    {
     "ename": "TypeError",
     "evalue": "Cannot construct a dtype from an array",
     "output_type": "error",
     "traceback": [
      "\u001b[0;31m---------------------------------------------------------------------------\u001b[0m",
      "\u001b[0;31mTypeError\u001b[0m                                 Traceback (most recent call last)",
      "Input \u001b[0;32mIn [16]\u001b[0m, in \u001b[0;36m<module>\u001b[0;34m\u001b[0m\n\u001b[1;32m     51\u001b[0m \u001b[38;5;66;03m# list(zip(*universe.nonzero()))\u001b[39;00m\n\u001b[1;32m     53\u001b[0m acceleration_vectors \u001b[38;5;241m=\u001b[39m np\u001b[38;5;241m.\u001b[39marange(stars\u001b[38;5;241m.\u001b[39mshape[\u001b[38;5;241m0\u001b[39m]) \u001b[38;5;241m*\u001b[39mu\u001b[38;5;241m.\u001b[39mN\n\u001b[0;32m---> 54\u001b[0m acceleration_vectors \u001b[38;5;241m=\u001b[39m \u001b[43mnp\u001b[49m\u001b[38;5;241;43m.\u001b[39;49m\u001b[43mndarray\u001b[49m\u001b[43m(\u001b[49m\u001b[43mstars\u001b[49m\u001b[38;5;241;43m.\u001b[39;49m\u001b[43mshape\u001b[49m\u001b[43m,\u001b[49m\u001b[43m \u001b[49m\u001b[43macceleration_vectors\u001b[49m\u001b[43m)\u001b[49m\n\u001b[1;32m     55\u001b[0m \u001b[38;5;28;01mfor\u001b[39;00m i, star \u001b[38;5;129;01min\u001b[39;00m \u001b[38;5;28menumerate\u001b[39m(stars):\n\u001b[1;32m     56\u001b[0m     \u001b[38;5;28;01mfor\u001b[39;00m j, other_star \u001b[38;5;129;01min\u001b[39;00m \u001b[38;5;28menumerate\u001b[39m(stars):\n",
      "\u001b[0;31mTypeError\u001b[0m: Cannot construct a dtype from an array"
     ]
    }
   ],
   "source": [
    "from astropy.constants import c, G, M_sun\n",
    "from astropy import units as u\n",
    "import numpy as np\n",
    "import matplotlib.pyplot as plt\n",
    "from sympy.geometry import Point, Circle\n",
    "from sympy.plotting import plot\n",
    "import poisson_disc as pd\n",
    "import math\n",
    "\n",
    "%matplotlib inline\n",
    "\n",
    "UNIVERSE_SIZE = 100\n",
    "\n",
    "NUMBER_OF_STARS = 20\n",
    "\n",
    "distance_between_stars = 2.537 * u.lyr\n",
    "distance_variance = 0.100 * u.lyr\n",
    "\n",
    "# universe_pizel_length = distance_between_stars / 25\n",
    "distance_between_stars_in_pixels = 20\n",
    "universe_pixel_length = distance_between_stars / distance_between_stars_in_pixels\n",
    "\n",
    "# newton gravitational force\n",
    "def newton_gravitational_force(mass1, mass2, distance):\n",
    "    return G * mass1 * mass2 / (distance**2)\n",
    "\n",
    "def newton_acceleration(force, mass):\n",
    "    return force / mass\n",
    "\n",
    "def force_vector(x1, y1, mass1, x2, y2, mass2):\n",
    "    distance = math.sqrt((x2-x1)**2 + (y2-y1)**2)\n",
    "    force = newton_gravitational_force(mass1, mass2, distance)\n",
    "    vector = [x2-x1, y2-y1]\n",
    "    normal = [vector[1]/distance, -vector[0]/distance]\n",
    "    return [normal[0]*force, normal[1]*force]\n",
    "\n",
    "def create_universe_matrix():\n",
    "    return np.zeros((UNIVERSE_SIZE, UNIVERSE_SIZE))\n",
    "\n",
    "universe = create_universe_matrix()\n",
    "stars = []\n",
    "\n",
    "def generate_stars(n=10):\n",
    "    return pd.Bridson_sampling(radius=distance_between_stars_in_pixels/UNIVERSE_SIZE)\n",
    "\n",
    "stars = generate_stars(NUMBER_OF_STARS)\n",
    "print(stars)\n",
    "plt.scatter(stars[:,0], stars[:,1])\n",
    "# plt.colorbar()\n",
    "plt.show()\n",
    "# list(zip(*universe.nonzero()))\n",
    "\n",
    "acceleration_vectors = np.arange(stars.shape[0]) *u.N\n",
    "acceleration_vectors = np.ndarray(stars.shape, acceleration_vectors)\n",
    "for i, star in enumerate(stars):\n",
    "    for j, other_star in enumerate(stars):\n",
    "        if i != j:\n",
    "            vector = force_vector(star[0], star[1], M_sun, other_star[0], other_star[1], M_sun)\n",
    "            acceleration_vectors[i] += vector\n",
    "\n",
    "acceleration_vectors\n",
    "# stars.shape\n",
    "\n",
    "\n",
    "\n",
    "    \n",
    "\n",
    "\n",
    "\n",
    "\n"
   ]
  }
 ],
 "metadata": {
  "interpreter": {
   "hash": "86a0f716ee450d6664399c7b52524ddc6f51615270147bcea1d8508c8402a721"
  },
  "kernelspec": {
   "display_name": "Python 3.8.8 64-bit ('theory-of-everything-hdQOEPTj-py3.8': poetry)",
   "language": "python",
   "name": "python3"
  },
  "language_info": {
   "codemirror_mode": {
    "name": "ipython",
    "version": 3
   },
   "file_extension": ".py",
   "mimetype": "text/x-python",
   "name": "python",
   "nbconvert_exporter": "python",
   "pygments_lexer": "ipython3",
   "version": "3.8.8"
  },
  "orig_nbformat": 4
 },
 "nbformat": 4,
 "nbformat_minor": 2
}
